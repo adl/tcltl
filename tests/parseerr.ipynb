{
 "cells": [
  {
   "cell_type": "markdown",
   "metadata": {},
   "source": [
    "This notebook tests error reporting while loading the model."
   ]
  },
  {
   "cell_type": "code",
   "execution_count": 1,
   "metadata": {},
   "outputs": [],
   "source": [
    "import spot\n",
    "import spot.tchecker as tc\n",
    "spot.setup()"
   ]
  },
  {
   "cell_type": "markdown",
   "metadata": {},
   "source": [
    "# Check ERROR/WARNINGS via %%tchecker"
   ]
  },
  {
   "cell_type": "code",
   "execution_count": 2,
   "metadata": {},
   "outputs": [
    {
     "name": "stderr",
     "output_type": "stream",
     "text": [
      "System declaration could not be built.\n",
      "1.8-10: ERROR, syntax error, unexpected identifier, expecting :\n"
     ]
    }
   ],
   "source": [
    "%%tchecker model\n",
    "system foo bar"
   ]
  },
  {
   "cell_type": "code",
   "execution_count": 3,
   "metadata": {},
   "outputs": [
    {
     "name": "stdout",
     "output_type": "stream",
     "text": [
      "None\n"
     ]
    }
   ],
   "source": [
    "print(model)"
   ]
  },
  {
   "cell_type": "code",
   "execution_count": 4,
   "metadata": {},
   "outputs": [],
   "source": [
    "%%tchecker model\n",
    "system:test\n",
    "event:e\n",
    "process:P\n",
    "int:1:1:3:1:vari\n",
    "clock:1:x\n",
    "location:P:l1{initial:}\n",
    "edge:P:l1:l1:e"
   ]
  },
  {
   "cell_type": "code",
   "execution_count": 5,
   "metadata": {},
   "outputs": [
    {
     "data": {
      "text/plain": [
       "tchecker model\n",
       "The following location(s) may be used in the formula:\n",
       "- P.l1\n",
       "The following variable(s) may be used in the formula:\n",
       "- vari (1..3)"
      ]
     },
     "execution_count": 5,
     "metadata": {},
     "output_type": "execute_result"
    }
   ],
   "source": [
    "model"
   ]
  },
  {
   "cell_type": "code",
   "execution_count": 6,
   "metadata": {},
   "outputs": [
    {
     "name": "stderr",
     "output_type": "stream",
     "text": [
      "7.15-17: WARNING, ignoring attribute foo\n"
     ]
    }
   ],
   "source": [
    "%%tchecker model\n",
    "system:test\n",
    "event:e\n",
    "process:P\n",
    "int:1:1:3:1:vari\n",
    "clock:1:x\n",
    "location:P:l1{initial:}\n",
    "location:P:l2{foo:}\n",
    "edge:P:l1:l2:e"
   ]
  },
  {
   "cell_type": "markdown",
   "metadata": {},
   "source": [
    "# Check ERROR/WARNINGS via load(filename)"
   ]
  },
  {
   "cell_type": "markdown",
   "metadata": {},
   "source": [
    "Note that we need the trailing newline at the end, due to `ticktac-project/tchecker#35`."
   ]
  },
  {
   "cell_type": "code",
   "execution_count": 7,
   "metadata": {},
   "outputs": [
    {
     "name": "stdout",
     "output_type": "stream",
     "text": [
      "Writing testerr.tc\n"
     ]
    }
   ],
   "source": [
    "%%writefile testerr.tc\n",
    "system:test\n",
    "event:e\n",
    "process:P\n",
    "int:1:1:3:1:vari\n",
    "clock:1:x\n",
    "location:P:l1{initial:}\n",
    "location:P:l2{foo:}\n",
    "edge:P:l1:l2:e\n",
    "                "
   ]
  },
  {
   "cell_type": "code",
   "execution_count": 8,
   "metadata": {},
   "outputs": [
    {
     "name": "stderr",
     "output_type": "stream",
     "text": [
      "7.15-17: WARNING, ignoring attribute foo\n"
     ]
    }
   ],
   "source": [
    "m = tc.load('testerr.tc')"
   ]
  },
  {
   "cell_type": "code",
   "execution_count": 9,
   "metadata": {},
   "outputs": [
    {
     "name": "stdout",
     "output_type": "stream",
     "text": [
      "Overwriting testerr.tc\n"
     ]
    }
   ],
   "source": [
    "%%writefile testerr.tc\n",
    "system:\n"
   ]
  },
  {
   "cell_type": "code",
   "execution_count": 10,
   "metadata": {},
   "outputs": [
    {
     "name": "stderr",
     "output_type": "stream",
     "text": [
      "System declaration could not be built.\n",
      "1.8: ERROR, syntax error, unexpected end of file, expecting identifier\n"
     ]
    }
   ],
   "source": [
    "m = tc.load('testerr.tc')"
   ]
  },
  {
   "cell_type": "code",
   "execution_count": 11,
   "metadata": {},
   "outputs": [
    {
     "name": "stdout",
     "output_type": "stream",
     "text": [
      "None\n"
     ]
    }
   ],
   "source": [
    "print(m)"
   ]
  },
  {
   "cell_type": "code",
   "execution_count": 12,
   "metadata": {},
   "outputs": [],
   "source": [
    "!rm -f testerr.tc"
   ]
  },
  {
   "cell_type": "code",
   "execution_count": 13,
   "metadata": {},
   "outputs": [
    {
     "name": "stderr",
     "output_type": "stream",
     "text": [
      "cannot open nonexistant: No such file or directory"
     ]
    }
   ],
   "source": [
    "tc.load(\"nonexistant\")"
   ]
  },
  {
   "cell_type": "markdown",
   "metadata": {},
   "source": [
    "# Check ERROR/WARNINGS via load(model text)"
   ]
  },
  {
   "cell_type": "code",
   "execution_count": 14,
   "metadata": {},
   "outputs": [
    {
     "name": "stderr",
     "output_type": "stream",
     "text": [
      "7.15-17: WARNING, ignoring attribute foo\n"
     ]
    }
   ],
   "source": [
    "m = tc.load(\"\"\"system:test\n",
    "event:e\n",
    "process:P\n",
    "int:1:1:3:1:vari\n",
    "clock:1:x\n",
    "location:P:l1{initial:}\n",
    "location:P:l2{foo:}\n",
    "edge:P:l1:l2:e\"\"\")"
   ]
  },
  {
   "cell_type": "code",
   "execution_count": 15,
   "metadata": {},
   "outputs": [
    {
     "name": "stderr",
     "output_type": "stream",
     "text": [
      "8.15-17: WARNING, ignoring attribute foo\n"
     ]
    }
   ],
   "source": [
    "m = tc.load(\"\"\"\n",
    "system:test\n",
    "event:e\n",
    "process:P\n",
    "int:1:1:3:1:vari\n",
    "clock:1:x\n",
    "location:P:l1{initial:}\n",
    "location:P:l2{foo:}\n",
    "edge:P:l1:l2:e\n",
    "\"\"\")"
   ]
  },
  {
   "cell_type": "code",
   "execution_count": 16,
   "metadata": {},
   "outputs": [
    {
     "name": "stderr",
     "output_type": "stream",
     "text": [
      "System declaration could not be built.\n",
      "3.1-3: ERROR, syntax error, unexpected identifier\n"
     ]
    }
   ],
   "source": [
    "m = tc.load(\"\"\"\n",
    " system : identifier\n",
    "foo\n",
    "\"\"\")"
   ]
  },
  {
   "cell_type": "code",
   "execution_count": null,
   "metadata": {},
   "outputs": [],
   "source": []
  }
 ],
 "metadata": {
  "kernelspec": {
   "display_name": "Python 3",
   "language": "python",
   "name": "python3"
  },
  "language_info": {
   "codemirror_mode": {
    "name": "ipython",
    "version": 3
   },
   "file_extension": ".py",
   "mimetype": "text/x-python",
   "name": "python",
   "nbconvert_exporter": "python",
   "pygments_lexer": "ipython3",
   "version": "3.7.5"
  }
 },
 "nbformat": 4,
 "nbformat_minor": 2
}
